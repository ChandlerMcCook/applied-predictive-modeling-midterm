{
 "cells": [
  {
   "cell_type": "markdown",
   "metadata": {},
   "source": [
    "## 1. Import required packages"
   ]
  },
  {
   "cell_type": "code",
   "execution_count": 5,
   "metadata": {},
   "outputs": [
    {
     "ename": "ModuleNotFoundError",
     "evalue": "No module named 'numpy'",
     "output_type": "error",
     "traceback": [
      "\u001b[31m---------------------------------------------------------------------------\u001b[39m",
      "\u001b[31mModuleNotFoundError\u001b[39m                       Traceback (most recent call last)",
      "\u001b[36mCell\u001b[39m\u001b[36m \u001b[39m\u001b[32mIn[5]\u001b[39m\u001b[32m, line 1\u001b[39m\n\u001b[32m----> \u001b[39m\u001b[32m1\u001b[39m \u001b[38;5;28;01mimport\u001b[39;00m\u001b[38;5;250m \u001b[39m\u001b[34;01mnumpy\u001b[39;00m\u001b[38;5;250m \u001b[39m\u001b[38;5;28;01mas\u001b[39;00m\u001b[38;5;250m \u001b[39m\u001b[34;01mnp\u001b[39;00m\n\u001b[32m      2\u001b[39m \u001b[38;5;28;01mimport\u001b[39;00m\u001b[38;5;250m \u001b[39m\u001b[34;01mpandas\u001b[39;00m\u001b[38;5;250m \u001b[39m\u001b[38;5;28;01mas\u001b[39;00m\u001b[38;5;250m \u001b[39m\u001b[34;01mpd\u001b[39;00m\n\u001b[32m      3\u001b[39m \u001b[38;5;28;01mimport\u001b[39;00m\u001b[38;5;250m \u001b[39m\u001b[34;01mseaborn\u001b[39;00m\u001b[38;5;250m \u001b[39m\u001b[38;5;28;01mas\u001b[39;00m\u001b[38;5;250m \u001b[39m\u001b[34;01msns\u001b[39;00m\n",
      "\u001b[31mModuleNotFoundError\u001b[39m: No module named 'numpy'"
     ]
    }
   ],
   "source": [
    "import numpy as np\n",
    "import pandas as pd\n",
    "import seaborn as sns\n",
    "import matplotlib.pyplot as plt\n",
    "plt.style.use('fivethirtyeight')\n",
    "%matplotlib inline\n",
    "\n",
    "from sklearn import datasets, linear_model\n",
    "from sklearn.model_selection import train_test_split\n",
    "from sklearn.metrics import mean_squared_error,r2_score,mean_absolute_error,mean_absolute_percentage_error\n",
    "\n",
    "from numpy import arange\n",
    "\n",
    "from sklearn.model_selection import RepeatedKFold\n",
    "from sklearn.model_selection import cross_val_score\n",
    "\n",
    "\n",
    "from sklearn.model_selection import GridSearchCV\n",
    "from sklearn.linear_model import Lasso\n",
    "\n",
    "pd.set_option('display.max_columns',200) #allows for up to 200 columns to be displayed when viewing a dataframe\n",
    "pd.set_option('display.max_rows',100)\n",
    "plt.style.use('seaborn') # a style that can be used for plots - see style reference above\n",
    "\n",
    "# trick to widen the screen\n",
    "from IPython.core.display import display, HTML\n",
    "\n",
    "#Widens the code landscape \n",
    "display(HTML(\"<style>.container { width:95% !important; }</style>\"))\n",
    "\n",
    "import warnings\n",
    "warnings.filterwarnings(\"ignore\", category=DeprecationWarning)\n",
    "warnings.filterwarnings(\"ignore\", category=FutureWarning)"
   ]
  },
  {
   "cell_type": "markdown",
   "metadata": {},
   "source": [
    "## 2. Import  the dataset DF_AH.csv and  Exploratory Data Analysis(15 points)\n",
    "* The dataset DF_AH.csv is exported from the data data preprocessing notebook after we removed the outliars, and doing some feature engineering. This dataset contains 92 variables including the target variable.\n",
    "* Do the exploratory data analysis to gain better insights on the data"
   ]
  },
  {
   "cell_type": "code",
   "execution_count": null,
   "metadata": {},
   "outputs": [
    {
     "ename": "NameError",
     "evalue": "name 'pd' is not defined",
     "output_type": "error",
     "traceback": [
      "\u001b[31m---------------------------------------------------------------------------\u001b[39m",
      "\u001b[31mNameError\u001b[39m                                 Traceback (most recent call last)",
      "\u001b[36mCell\u001b[39m\u001b[36m \u001b[39m\u001b[32mIn[1]\u001b[39m\u001b[32m, line 1\u001b[39m\n\u001b[32m----> \u001b[39m\u001b[32m1\u001b[39m df_AH = \u001b[43mpd\u001b[49m.read_csv(\u001b[33m\"\u001b[39m\u001b[33mDataset/DF_AH.csv\u001b[39m\u001b[33m\"\u001b[39m)\n\u001b[32m      3\u001b[39m df_AH.info()\n",
      "\u001b[31mNameError\u001b[39m: name 'pd' is not defined"
     ]
    }
   ],
   "source": [
    "df_AH = pd.read_csv(\"Dataset/DF_AH.csv\")\n",
    "\n",
    "df_AH.info()\n",
    "#hello"
   ]
  },
  {
   "cell_type": "markdown",
   "metadata": {},
   "source": [
    "## 3. Perform additional Feature Engineering(10 points)"
   ]
  },
  {
   "cell_type": "markdown",
   "metadata": {},
   "source": [
    "1) Identify the unique number of foundation types\n",
    "\n",
    "2) Create the dummy variable for the foundation type\n",
    "\n",
    "3) Identify the all the unique neighbourhood\n",
    "\n",
    "4) Create the dummy variable for the neighbourhood\n",
    "\n",
    "5) Look at the DF_AH.info() and drop all the variables that have Non-Null count less than 2500.\n"
   ]
  },
  {
   "cell_type": "markdown",
   "metadata": {},
   "source": [
    "## 4.  Impute the data (10 points)\n",
    "\n",
    "1) Check whether each of the variables have missing values\n",
    "\n",
    "2) Impute the missing values using appropriate method and explain why you use that method?\n",
    "\n",
    "3) Look at the data and for remaining categorical variable, create the dummy variable, or drop the variable. Explain your reasoning.\n"
   ]
  },
  {
   "cell_type": "markdown",
   "metadata": {},
   "source": [
    "## 5. Create the train/test data and scaling (5 points)\n",
    "\n",
    "1) Split the data into training and test set with training on 80 percent. You may use the following code \n",
    "\n",
    "* X = DF_AH.drop('SalePrice', axis = 1) #keep features only for X\n",
    "* y = DF_AH['SalePrice'] #keep target variable only for y\n",
    "\n",
    "* X_train, X_test, y_train, y_test = train_test_split(X, y, test_size = 0.2, random_state = 42)\n",
    "\n",
    "2) Standardize the data using standard scaler, then you will be building the regression models suing the scaled data."
   ]
  },
  {
   "cell_type": "markdown",
   "metadata": {},
   "source": [
    "## 6.  Build the Multiple Regression Model (10 points)\n",
    "\n",
    "(a)  Build a multiple regression model using backwards elimination. To do this follow the following steps:\n",
    "\n",
    "(1) Build initial model \n",
    "\n",
    "(2) Review p-values\n",
    "\n",
    "    - if a p-value is > 0.05 then eliminate the highest p-value and go to step 3\n",
    "    - **if all p-values are less than 0.05 then your model is complete**\n",
    "    \n",
    "(3) Build a new model without eliminated independent variable\n",
    "\n",
    "(4) Go back to step 2\n",
    "\n",
    "(b) Write the regression equation where Saleprice is a dependent(target) variable and all the statistically significant predictors as independent variable.\n",
    "\n",
    "(5) As we used the validation set approach here, predict the y values in the test data and report the following measures of accuracy.\n",
    "\n",
    "     - Root Mean Squared Error\n",
    "     - Mean Absolute Percentage Error\n",
    "     - R squared\n",
    "Please interpret these values.\n",
    "\n",
    "Note: To keep the readability of Jupyter notebook, please include the initial model and the final model for the multiple regression using backward elimination."
   ]
  },
  {
   "cell_type": "markdown",
   "metadata": {},
   "source": [
    "## 7. Build the LASSO Regression Model(10 points)\n",
    "\n",
    "(a)  Build a LASSO regression model using all the variables that you used initially in your multiple linear regression model. You are advised to use the grid search CV(5 fold) on training data to find the best value of lambda. Then report the following measures on the test dataset:\n",
    "\n",
    "     - Root Mean Squared Error\n",
    "     - Mean Absolute Percentage Error\n",
    "     - R squared\n",
    "How do you interpret these values?\n",
    "\n",
    "(b) Identify the variables with the non zero regression coefficients. Are they the same as the one that is statistically insignificant in multiple linear regression model?\n",
    "\n",
    "\n",
    "(c) Write the regression equation where Saleprice is a dependent(target) variable and all the statistically significant predictors as independent variable."
   ]
  },
  {
   "cell_type": "markdown",
   "metadata": {},
   "source": [
    "## 8. Build the Ridge Regression Model(10 points)\n",
    "\n",
    "(a)  Build the Ridge regression model using all the variables that you used initially in your multiple linear regression model together with the best lambda obtained by grid search CV(5 fold)  on the training data. \n",
    "Please report the scores of following measures on the test dataset:\n",
    "\n",
    "     - Root Mean Squared Error\n",
    "     - Mean Absolute Percentage Error\n",
    "     - R squared\n",
    "How do you interpret these values?\n",
    "\n",
    "(b) Identify the regression coefficients of all variables. What is the difference you noticed between the Lasso and the Ridge regression coefficients?\n",
    "\n",
    "(c) Write the regression equation with Saleprice as a dependent(target) variable and all the predictors as independent variable. Note: Since the value of coefficient may be very small, you may round the coefficient to two decimal places and use the non zero coefficients.\n",
    " "
   ]
  },
  {
   "cell_type": "markdown",
   "metadata": {},
   "source": [
    "## 9. Build the Kernel Ridge Regression Model(10 points)\n",
    "\n",
    "https://scikit-learn.org/stable/modules/generated/sklearn.kernel_ridge.KernelRidge.html\n",
    "\n",
    "(a)  Build the Kernel Ridge regression model using all the variables that you used initially in your multiple linear regression model together with the best values of tuning parameters obtained by grid search CV(5 fold)  on the training data. \n",
    "Please report the scores of following measures on the test dataset:\n",
    "\n",
    "     - Root Mean Squared Error\n",
    "     - Mean Absolute Percentage Error\n",
    "     - R squared\n",
    "How do you interpret these values?\n",
    "\n",
    "(b) By conducting the error analysis, what is the difference you noticed with the previous models?\n",
    "\n",
    "(c)  Write the regression equation with Saleprice as a dependent(target) variable and all the predictors as independent variable, if possible.\n",
    " "
   ]
  },
  {
   "cell_type": "markdown",
   "metadata": {},
   "source": [
    "## 10. Model Comparison and Conclusion (20 points)"
   ]
  },
  {
   "cell_type": "markdown",
   "metadata": {},
   "source": [
    " (a) Create the visualizations of the residuals from the multiple regression, LASSO regression, Ridge regression and Kernel Ridge regression. You can create several visuals that are useful to gain insights on the residuals of each models separately or together. Explain what you observe from these graphs.\n",
    " \n",
    " (b) Study the performance scores obtained from all three models and explain which model the company need to choose for deployment and why? Provide the support for your resoning/decision with the appropriate graphs and tables with a clear explanation."
   ]
  },
  {
   "cell_type": "code",
   "execution_count": null,
   "metadata": {},
   "outputs": [],
   "source": []
  }
 ],
 "metadata": {
  "kernelspec": {
   "display_name": "Python 3",
   "language": "python",
   "name": "python3"
  },
  "language_info": {
   "codemirror_mode": {
    "name": "ipython",
    "version": 3
   },
   "file_extension": ".py",
   "mimetype": "text/x-python",
   "name": "python",
   "nbconvert_exporter": "python",
   "pygments_lexer": "ipython3",
   "version": "3.13.0"
  }
 },
 "nbformat": 4,
 "nbformat_minor": 4
}
